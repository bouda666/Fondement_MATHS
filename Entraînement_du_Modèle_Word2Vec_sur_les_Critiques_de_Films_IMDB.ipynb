{
  "nbformat": 4,
  "nbformat_minor": 0,
  "metadata": {
    "colab": {
      "provenance": []
    },
    "kernelspec": {
      "name": "python3",
      "display_name": "Python 3"
    },
    "language_info": {
      "name": "python"
    }
  },
  "cells": [
    {
      "cell_type": "code",
      "source": [
        "# Importation des bibliothèques nécessaires\n",
        "import pandas as pd\n",
        "import numpy as np\n",
        "import re\n",
        "import gensim\n",
        "from gensim.utils import simple_preprocess\n",
        "import nltk\n",
        "from nltk.corpus import stopwords\n",
        "from nltk.stem import WordNetLemmatizer\n",
        "from nltk import download\n",
        "from sklearn.manifold import TSNE\n",
        "import matplotlib.pyplot as plt"
      ],
      "metadata": {
        "id": "lCJPzEjGC1kk"
      },
      "execution_count": 1,
      "outputs": []
    },
    {
      "cell_type": "code",
      "source": [
        "# Télécharger les stopwords et lemmatisation\n",
        "download('stopwords')\n",
        "download('wordnet')\n",
        "stop_words = set(stopwords.words('english'))\n",
        "lemmatizer = WordNetLemmatizer()"
      ],
      "metadata": {
        "colab": {
          "base_uri": "https://localhost:8080/"
        },
        "id": "wLfPl3HwC22B",
        "outputId": "c6a5f5be-41f3-4871-ba6b-acb7e1699b9a"
      },
      "execution_count": 2,
      "outputs": [
        {
          "output_type": "stream",
          "name": "stderr",
          "text": [
            "[nltk_data] Downloading package stopwords to /root/nltk_data...\n",
            "[nltk_data]   Unzipping corpora/stopwords.zip.\n",
            "[nltk_data] Downloading package wordnet to /root/nltk_data...\n"
          ]
        }
      ]
    },
    {
      "cell_type": "code",
      "source": [
        "# Charger le fichier CSV contenant les critiques IMDb\n",
        "df = pd.read_csv(\"IMDB Dataset.csv\")"
      ],
      "metadata": {
        "id": "YqPSGW8DC4JA"
      },
      "execution_count": 3,
      "outputs": []
    },
    {
      "cell_type": "code",
      "source": [
        "# Affichage des premières lignes du dataset pour vérifier la structure\n",
        "print(df.head())"
      ],
      "metadata": {
        "colab": {
          "base_uri": "https://localhost:8080/"
        },
        "id": "vfxXC8uSC5Vt",
        "outputId": "b2a23af3-b128-458d-8906-91a9e43df5ac"
      },
      "execution_count": 4,
      "outputs": [
        {
          "output_type": "stream",
          "name": "stdout",
          "text": [
            "                                              review sentiment\n",
            "0  One of the other reviewers has mentioned that ...  positive\n",
            "1  A wonderful little production. <br /><br />The...  positive\n",
            "2  I thought this was a wonderful way to spend ti...  positive\n",
            "3  Basically there's a family where a little boy ...  negative\n",
            "4  Petter Mattei's \"Love in the Time of Money\" is...  positive\n"
          ]
        }
      ]
    },
    {
      "cell_type": "code",
      "source": [
        "# Fonction de prétraitement du texte : Nettoyage et lemmatisation des critiques\n",
        "def clean_text(text):\n",
        "    text = text.lower()  # Mise en minuscule\n",
        "    text = re.sub(r'\\W+', ' ', text)  # Supprimer les caractères non alphabétiques\n",
        "    words = simple_preprocess(text)  # Tokenisation du texte\n",
        "    words = [lemmatizer.lemmatize(word) for word in words if word not in stop_words]  # Lemmatisation\n",
        "    return words"
      ],
      "metadata": {
        "id": "-ApzQ0E0C6q8"
      },
      "execution_count": 5,
      "outputs": []
    },
    {
      "cell_type": "code",
      "source": [
        "# Appliquer le nettoyage aux critiques\n",
        "sentences = df['review'].apply(clean_text).tolist()"
      ],
      "metadata": {
        "id": "mLSpcFy3C8lL"
      },
      "execution_count": 6,
      "outputs": []
    },
    {
      "cell_type": "code",
      "source": [
        "# Entraînement du modèle Word2Vec\n",
        "word2vec_model = gensim.models.Word2Vec(\n",
        "    sentences,\n",
        "    vector_size=100,  # Taille des vecteurs de mots\n",
        "    window=5,  # Fenêtre de contexte\n",
        "    min_count=5,  # Ignorer les mots rares\n",
        "    workers=4,  # Nombre de threads\n",
        "    sg=1  # Utilisation du modèle Skip-gram\n",
        ")"
      ],
      "metadata": {
        "id": "5xeGkDtCC9zc"
      },
      "execution_count": 7,
      "outputs": []
    },
    {
      "cell_type": "code",
      "source": [
        "# Sauvegarde du modèle entraîné\n",
        "word2vec_model.save(\"word2vec_imdb_model.model\")"
      ],
      "metadata": {
        "id": "1H4gksbZC-59"
      },
      "execution_count": 8,
      "outputs": []
    },
    {
      "cell_type": "code",
      "source": [
        "# Affichage des mots les plus proches du mot \"movie\"\n",
        "similar_words = word2vec_model.wv.most_similar(\"movie\", topn=10)"
      ],
      "metadata": {
        "id": "7lMSlROaDAk2"
      },
      "execution_count": 9,
      "outputs": []
    },
    {
      "cell_type": "code",
      "source": [
        "# Affichage des résultats\n",
        "df_results = pd.DataFrame(similar_words, columns=[\"Mot\", \"Similarité\"])\n",
        "print(df_results)\n"
      ],
      "metadata": {
        "colab": {
          "base_uri": "https://localhost:8080/"
        },
        "id": "e2WAzfbDDBoQ",
        "outputId": "5f146b7f-8a03-4c22-aed9-c88f03a4f65e"
      },
      "execution_count": 10,
      "outputs": [
        {
          "output_type": "stream",
          "name": "stdout",
          "text": [
            "            Mot  Similarité\n",
            "0          film    0.895234\n",
            "1        havent    0.829883\n",
            "2        sequal    0.817729\n",
            "3   strangeland    0.814683\n",
            "4       atleast    0.812268\n",
            "5     demonicus    0.807854\n",
            "6         noroi    0.806974\n",
            "7       loooong    0.800129\n",
            "8       lenient    0.797155\n",
            "9  dissapointed    0.796722\n"
          ]
        }
      ]
    },
    {
      "cell_type": "code",
      "source": [
        "# Visualisation des mots similaires en 2D avec t-SNE\n",
        "# Extraire les vecteurs de mots\n",
        "words = [word for word, _ in similar_words]\n",
        "vectors = [word2vec_model.wv[word] for word in words]"
      ],
      "metadata": {
        "id": "PawkaARADCzK"
      },
      "execution_count": 11,
      "outputs": []
    },
    {
      "cell_type": "code",
      "source": [
        "# Conversion en tableau NumPy\n",
        "vectors = np.array(vectors)"
      ],
      "metadata": {
        "id": "FeAd7HQnDEGC"
      },
      "execution_count": 12,
      "outputs": []
    },
    {
      "cell_type": "code",
      "source": [
        "# Réduction de la dimensionnalité avec t-SNE (réduire la perplexité)\n",
        "tsne = TSNE(n_components=2, random_state=42, perplexity=5)  # Ajuster la perplexité à 5\n",
        "reduced_vectors = tsne.fit_transform(vectors)\n"
      ],
      "metadata": {
        "id": "Th2-dne_DFR3"
      },
      "execution_count": 13,
      "outputs": []
    },
    {
      "cell_type": "code",
      "source": [
        "# Visualisation\n",
        "plt.figure(figsize=(10, 10))\n",
        "plt.scatter(reduced_vectors[:, 0], reduced_vectors[:, 1])"
      ],
      "metadata": {
        "colab": {
          "base_uri": "https://localhost:8080/",
          "height": 847
        },
        "id": "vimq-XbyDIBm",
        "outputId": "febe1e75-13af-4019-841e-5562942bfb70"
      },
      "execution_count": 14,
      "outputs": [
        {
          "output_type": "execute_result",
          "data": {
            "text/plain": [
              "<matplotlib.collections.PathCollection at 0x7a549ac46a50>"
            ]
          },
          "metadata": {},
          "execution_count": 14
        },
        {
          "output_type": "display_data",
          "data": {
            "text/plain": [
              "<Figure size 1000x1000 with 1 Axes>"
            ],
            "image/png": "[encoded data removed]"
          },
          "metadata": {}
        }
      ]
    },
    {
      "cell_type": "code",
      "source": [
        "# Tester les analogies de mots : \"king\" - \"man\" + \"woman\" = \"queen\"\n",
        "analogy_result = word2vec_model.wv.most_similar(positive=[\"woman\", \"king\"], negative=[\"man\"], topn=1)\n",
        "print(f\"Résultat de l'analogie 'king' - 'man' + 'woman' : {analogy_result}\")"
      ],
      "metadata": {
        "colab": {
          "base_uri": "https://localhost:8080/"
        },
        "id": "forgkPISFqIq",
        "outputId": "21e13448-ac95-40b7-90b6-7fe96bbcfc48"
      },
      "execution_count": 17,
      "outputs": [
        {
          "output_type": "stream",
          "name": "stdout",
          "text": [
            "Résultat de l'analogie 'king' - 'man' + 'woman' : [('viii', 0.5400246381759644)]\n"
          ]
        }
      ]
    }
  ]
}