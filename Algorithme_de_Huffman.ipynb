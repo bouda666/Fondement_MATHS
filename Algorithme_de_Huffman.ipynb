{
  "nbformat": 4,
  "nbformat_minor": 0,
  "metadata": {
    "colab": {
      "provenance": []
    },
    "kernelspec": {
      "name": "python3",
      "display_name": "Python 3"
    },
    "language_info": {
      "name": "python"
    }
  },
  "cells": [
    {
      "cell_type": "code",
      "execution_count": 1,
      "metadata": {
        "colab": {
          "base_uri": "https://localhost:8080/"
        },
        "id": "kEu3AO0xSAoC",
        "outputId": "207b7748-059f-470e-be35-9c30995a95f3"
      },
      "outputs": [
        {
          "output_type": "stream",
          "name": "stdout",
          "text": [
            "Texte original: BIDABI 2025\n",
            "Texte compressé: 110111100011110111000101001101010\n",
            "Texte décompressé: BIDABI 2025\n",
            "Taux de compression: 37.50%\n"
          ]
        }
      ],
      "source": [
        "from collections import Counter\n",
        "from heapq import heappush, heappop\n",
        "\n",
        "def construire_arbre_huffman(texte):\n",
        "    # Compte la fréquence de chaque caractère\n",
        "    freq = Counter(texte)\n",
        "\n",
        "    # Crée une file de priorité\n",
        "    pq = []\n",
        "    for char, f in freq.items():\n",
        "        heappush(pq, (f, 0, char))  # (fréquence, compteur, caractère)\n",
        "\n",
        "    count = 1\n",
        "    while len(pq) > 1:\n",
        "        f1, _, c1 = heappop(pq)\n",
        "        f2, _, c2 = heappop(pq)\n",
        "        heappush(pq, (f1 + f2, count, (c1, c2)))\n",
        "        count += 1\n",
        "\n",
        "    return pq[0][2]\n",
        "\n",
        "def generer_codes_huffman(arbre, prefix=\"\", codes=None):\n",
        "    if codes is None:\n",
        "        codes = {}\n",
        "\n",
        "    if isinstance(arbre, str):\n",
        "        codes[arbre] = prefix\n",
        "    else:\n",
        "        gauche, droite = arbre\n",
        "        generer_codes_huffman(gauche, prefix + \"0\", codes)\n",
        "        generer_codes_huffman(droite, prefix + \"1\", codes)\n",
        "    return codes\n",
        "\n",
        "def compresser_huffman(texte):\n",
        "    arbre = construire_arbre_huffman(texte)\n",
        "    codes = generer_codes_huffman(arbre)\n",
        "    return ''.join(codes[char] for char in texte), arbre\n",
        "\n",
        "def decompresser_huffman(texte_compresse, arbre):\n",
        "    resultat = []\n",
        "    noeud_courant = arbre\n",
        "\n",
        "    for bit in texte_compresse:\n",
        "        if isinstance(noeud_courant, str):\n",
        "            resultat.append(noeud_courant)\n",
        "            noeud_courant = arbre\n",
        "\n",
        "        if bit == '0':\n",
        "            noeud_courant = noeud_courant[0]\n",
        "        else:\n",
        "            noeud_courant = noeud_courant[1]\n",
        "\n",
        "    if isinstance(noeud_courant, str):\n",
        "        resultat.append(noeud_courant)\n",
        "\n",
        "    return ''.join(resultat)\n",
        "\n",
        "# Exemple d'utilisation\n",
        "if __name__ == \"__main__\":\n",
        "    texte = \"BIDABI 2025\"\n",
        "    print(f\"Texte original: {texte}\")\n",
        "\n",
        "    # Compression\n",
        "    compresse, arbre = compresser_huffman(texte)\n",
        "    print(f\"Texte compressé: {compresse}\")\n",
        "\n",
        "    # Décompression\n",
        "    decompresse = decompresser_huffman(compresse, arbre)\n",
        "    print(f\"Texte décompressé: {decompresse}\")\n",
        "\n",
        "    # Calcul du taux de compression\n",
        "    taux = (len(compresse) / 8) / len(texte) * 100\n",
        "    print(f\"Taux de compression: {taux:.2f}%\")"
      ]
    },
    {
      "cell_type": "code",
      "source": [],
      "metadata": {
        "id": "J3bNWRPYSETu"
      },
      "execution_count": null,
      "outputs": []
    }
  ]
}