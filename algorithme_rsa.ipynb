{
  "nbformat": 4,
  "nbformat_minor": 0,
  "metadata": {
    "colab": {
      "provenance": []
    },
    "kernelspec": {
      "name": "python3",
      "display_name": "Python 3"
    },
    "language_info": {
      "name": "python"
    }
  },
  "cells": [
    {
      "cell_type": "code",
      "execution_count": 3,
      "metadata": {
        "colab": {
          "base_uri": "https://localhost:8080/"
        },
        "id": "By_idqv2RNwh",
        "outputId": "843e036d-1272-4a0c-aa4e-052179f1d555"
      },
      "outputs": [
        {
          "output_type": "stream",
          "name": "stdout",
          "text": [
            "Clé publique (e,n): (7,3233)\n",
            "Clé privée (d,n): (1783,3233)\n",
            "\n",
            "Message original: BIDABI 2025\n",
            "Message chiffré: [2241, 286, 2056, 1317, 2241, 286, 2774, 1841, 2488, 1841, 1431]\n",
            "Message déchiffré: BIDABI 2025\n"
          ]
        }
      ],
      "source": [
        "def pgcd(a, b):\n",
        "    while b:\n",
        "        a, b = b, a % b\n",
        "    return a\n",
        "\n",
        "def generer_cles_rsa():\n",
        "    # Utilisation de petits nombres premiers pour l'exemple\n",
        "    p = 61\n",
        "    q = 53\n",
        "    n = p * q\n",
        "    phi = (p - 1) * (q - 1)\n",
        "\n",
        "    # Trouver e\n",
        "    e = 2\n",
        "    while e < phi:\n",
        "        if pgcd(e, phi) == 1:\n",
        "            break\n",
        "        e += 1\n",
        "\n",
        "    # Trouver d\n",
        "    d = 1\n",
        "    while ((d * e) % phi) != 1:\n",
        "        d += 1\n",
        "\n",
        "    return (e, d, n)\n",
        "\n",
        "def chiffrer_rsa(message, e, n):\n",
        "    return [pow(ord(char), e, n) for char in message]\n",
        "\n",
        "def dechiffrer_rsa(message_chiffre, d, n):\n",
        "    return ''.join([chr(pow(char, d, n)) for char in message_chiffre])\n",
        "\n",
        "# Exemple d'utilisation\n",
        "if __name__ == \"__main__\":\n",
        "    # Génération des clés\n",
        "    e, d, n = generer_cles_rsa()\n",
        "    print(f\"Clé publique (e,n): ({e},{n})\")\n",
        "    print(f\"Clé privée (d,n): ({d},{n})\")\n",
        "\n",
        "    # Test avec un message\n",
        "    message = \"BIDABI 2025\"\n",
        "    print(f\"\\nMessage original: {message}\")\n",
        "\n",
        "    # Chiffrement\n",
        "    chiffre = chiffrer_rsa(message, e, n)\n",
        "    print(f\"Message chiffré: {chiffre}\")\n",
        "\n",
        "    # Déchiffrement\n",
        "    dechiffre = dechiffrer_rsa(chiffre, d, n)\n",
        "    print(f\"Message déchiffré: {dechiffre}\")"
      ]
    },
    {
      "cell_type": "code",
      "source": [],
      "metadata": {
        "id": "q5TGyN_9ROXg"
      },
      "execution_count": null,
      "outputs": []
    }
  ]
}